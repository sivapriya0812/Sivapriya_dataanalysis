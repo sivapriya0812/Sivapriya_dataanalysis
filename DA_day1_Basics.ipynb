{
  "nbformat": 4,
  "nbformat_minor": 0,
  "metadata": {
    "colab": {
      "provenance": []
    },
    "kernelspec": {
      "name": "python3",
      "display_name": "Python 3"
    },
    "language_info": {
      "name": "python"
    }
  },
  "cells": [
    {
      "cell_type": "code",
      "execution_count": null,
      "metadata": {
        "colab": {
          "base_uri": "https://localhost:8080/"
        },
        "id": "1CffkuiRqok6",
        "outputId": "8328d497-790d-4031-cb55-9bed29615bb5"
      },
      "outputs": [
        {
          "output_type": "stream",
          "name": "stdout",
          "text": [
            "Iam 5 years old\n"
          ]
        }
      ],
      "source": [
        "#variable and print\n",
        "a=5\n",
        "print(\"Iam\",a,\"years old\")"
      ]
    },
    {
      "cell_type": "code",
      "source": [
        "#variable and print\n",
        "a=\"samhitha\"\n",
        "print(a,\"is a good girl\")"
      ],
      "metadata": {
        "colab": {
          "base_uri": "https://localhost:8080/"
        },
        "id": "TOTh8zdnrps8",
        "outputId": "37b02d3b-f433-405c-84c3-181056acbf4e"
      },
      "execution_count": null,
      "outputs": [
        {
          "output_type": "stream",
          "name": "stdout",
          "text": [
            "samhitha is a good girl\n"
          ]
        }
      ]
    },
    {
      "cell_type": "markdown",
      "source": [
        "operators"
      ],
      "metadata": {
        "id": "nOh-qZ3yrsP7"
      }
    },
    {
      "cell_type": "code",
      "source": [
        "#Arthimetic\n",
        "a=5\n",
        "b=25\n",
        "print(a+b)"
      ],
      "metadata": {
        "colab": {
          "base_uri": "https://localhost:8080/"
        },
        "id": "8YuBBW36rwQg",
        "outputId": "6e09e63c-925b-43df-8375-e46c551a5f77"
      },
      "execution_count": null,
      "outputs": [
        {
          "output_type": "stream",
          "name": "stdout",
          "text": [
            "30\n"
          ]
        }
      ]
    },
    {
      "cell_type": "code",
      "source": [
        "#power\n",
        "print(2**5)"
      ],
      "metadata": {
        "colab": {
          "base_uri": "https://localhost:8080/"
        },
        "id": "QLFTejbSr3c2",
        "outputId": "92c6ed61-0496-4c5e-9a7e-f8bbbce3011b"
      },
      "execution_count": null,
      "outputs": [
        {
          "output_type": "stream",
          "name": "stdout",
          "text": [
            "32\n"
          ]
        }
      ]
    },
    {
      "cell_type": "code",
      "source": [
        "#Floor division\n",
        "print(25//4)"
      ],
      "metadata": {
        "colab": {
          "base_uri": "https://localhost:8080/"
        },
        "id": "vN1O6iQ4sdh7",
        "outputId": "9e583d82-8d11-48b6-f876-d1336f92a333"
      },
      "execution_count": null,
      "outputs": [
        {
          "output_type": "stream",
          "name": "stdout",
          "text": [
            "6\n"
          ]
        }
      ]
    },
    {
      "cell_type": "code",
      "source": [
        "#Relational\n",
        "a=6\n",
        "b=6\n",
        "print(a==b)\n",
        "print(a>b)\n",
        "print(a<b)\n",
        "print(a>=b)\n",
        "print(a<=b)\n",
        "print(a!=b)"
      ],
      "metadata": {
        "colab": {
          "base_uri": "https://localhost:8080/"
        },
        "id": "12VjYvr9souO",
        "outputId": "450dcb81-67b7-4fb5-cf48-ebbedb8c59ae"
      },
      "execution_count": null,
      "outputs": [
        {
          "output_type": "stream",
          "name": "stdout",
          "text": [
            "True\n",
            "False\n",
            "False\n",
            "True\n",
            "True\n",
            "False\n"
          ]
        }
      ]
    },
    {
      "cell_type": "code",
      "source": [
        "#Logical\n",
        "a=9\n",
        "b=25\n",
        "print((a>b) and (a<b)) #false and true"
      ],
      "metadata": {
        "colab": {
          "base_uri": "https://localhost:8080/"
        },
        "id": "bwkDbhbGtiDE",
        "outputId": "c1c60d5c-033b-4fc4-a913-daf28b63bbd9"
      },
      "execution_count": null,
      "outputs": [
        {
          "output_type": "stream",
          "name": "stdout",
          "text": [
            "False\n"
          ]
        }
      ]
    },
    {
      "cell_type": "code",
      "source": [
        "print((a>b)or(a<b)) #false or true"
      ],
      "metadata": {
        "colab": {
          "base_uri": "https://localhost:8080/"
        },
        "id": "SbQCGedVtyJx",
        "outputId": "11f77889-26ce-49ee-ed32-c38eeaba08a2"
      },
      "execution_count": null,
      "outputs": [
        {
          "output_type": "stream",
          "name": "stdout",
          "text": [
            "True\n"
          ]
        }
      ]
    },
    {
      "cell_type": "code",
      "source": [
        "#Membership\n",
        "a=\"pirate\"\n",
        "print(\"a\" not in a)\n",
        "print(\"a\" in a)"
      ],
      "metadata": {
        "colab": {
          "base_uri": "https://localhost:8080/"
        },
        "id": "xkHRGzakt84w",
        "outputId": "255721ec-9f7e-4909-c8ab-be1f1407f75d"
      },
      "execution_count": null,
      "outputs": [
        {
          "output_type": "stream",
          "name": "stdout",
          "text": [
            "False\n",
            "True\n"
          ]
        }
      ]
    },
    {
      "cell_type": "markdown",
      "source": [
        "Control flow"
      ],
      "metadata": {
        "id": "yAZk9Ptbu1i5"
      }
    },
    {
      "cell_type": "code",
      "source": [
        "#conditional-if\n",
        "#write a program to get a number from the user and check whether it is positive or negative.\n",
        "n=int(input(\"enter a number :\"))\n",
        "if(n>0):\n",
        "  print(n,\"is a positive number\")\n",
        "else:\n",
        "  print(n,\"is a negative number\")"
      ],
      "metadata": {
        "colab": {
          "base_uri": "https://localhost:8080/"
        },
        "id": "5j69Yipiu8BO",
        "outputId": "8e677d23-ee0c-47f4-d2eb-40a88b6baf87"
      },
      "execution_count": null,
      "outputs": [
        {
          "output_type": "stream",
          "name": "stdout",
          "text": [
            "enter a number :22\n",
            "22 is a positive number\n"
          ]
        }
      ]
    },
    {
      "cell_type": "code",
      "source": [
        "#c0nditional-elif\n",
        "n=int(input(\"enter a number:\"))\n",
        "if(n>0):\n",
        "  print(n,\"is positive\")\n",
        "elif(n<0):\n",
        "  print(n,\"is negative\")\n",
        "else:\n",
        "  print(n,\" is neither positive nor negative\")\n"
      ],
      "metadata": {
        "colab": {
          "base_uri": "https://localhost:8080/"
        },
        "id": "28DNstJtyQEh",
        "outputId": "3c4297dd-27ca-4a81-9572-e693d2f87431"
      },
      "execution_count": null,
      "outputs": [
        {
          "output_type": "stream",
          "name": "stdout",
          "text": [
            "enter a number:0\n",
            "0  is neither positive nor negative\n"
          ]
        }
      ]
    },
    {
      "cell_type": "code",
      "source": [
        "#loop-for\n",
        "n=int(input(\"enter a number\"))\n",
        "for i in range(1,11,1):\n",
        "   a=n*i\n",
        "   print(a)\n"
      ],
      "metadata": {
        "colab": {
          "base_uri": "https://localhost:8080/"
        },
        "id": "7AS51iCZ0nbo",
        "outputId": "b1df1146-2932-45f3-b129-aff86fb846b4"
      },
      "execution_count": null,
      "outputs": [
        {
          "output_type": "stream",
          "name": "stdout",
          "text": [
            "enter a number2\n",
            "2\n",
            "4\n",
            "6\n",
            "8\n",
            "10\n",
            "12\n",
            "14\n",
            "16\n",
            "18\n",
            "20\n"
          ]
        }
      ]
    },
    {
      "cell_type": "code",
      "source": [
        "#type casting:\n",
        "#implicit\n",
        "a=22.6 #float\n",
        "b=3 #int\n",
        "c=a+b\n",
        "print(c)\n",
        "#explicit\n",
        "a=int(22.6)\n",
        "d=a*b\n",
        "print(d)"
      ],
      "metadata": {
        "colab": {
          "base_uri": "https://localhost:8080/"
        },
        "id": "DgGTGynI2csK",
        "outputId": "bc6ebea1-f1f3-4f78-ec0e-2ebea79f1116"
      },
      "execution_count": null,
      "outputs": [
        {
          "output_type": "stream",
          "name": "stdout",
          "text": [
            "25.6\n",
            "66\n"
          ]
        }
      ]
    },
    {
      "cell_type": "code",
      "source": [
        "a=\"45\"\n",
        "a=int(a) #save the changes\n",
        "print(type(a))"
      ],
      "metadata": {
        "colab": {
          "base_uri": "https://localhost:8080/"
        },
        "id": "kbtpiB254PpC",
        "outputId": "ed3eed20-6449-4551-f0cd-191baf084088"
      },
      "execution_count": null,
      "outputs": [
        {
          "output_type": "stream",
          "name": "stdout",
          "text": [
            "<class 'int'>\n"
          ]
        }
      ]
    },
    {
      "cell_type": "markdown",
      "source": [
        "Data slicing"
      ],
      "metadata": {
        "id": "8QADS04s4f3Q"
      }
    },
    {
      "cell_type": "code",
      "source": [
        "a=\"python is easy\"\n",
        "print(a[0:6]) #start:stop:step"
      ],
      "metadata": {
        "colab": {
          "base_uri": "https://localhost:8080/"
        },
        "id": "PB4AofZj4jPO",
        "outputId": "d358fc61-81b5-48d1-8114-c88eff77c24e"
      },
      "execution_count": null,
      "outputs": [
        {
          "output_type": "stream",
          "name": "stdout",
          "text": [
            "python\n"
          ]
        }
      ]
    },
    {
      "cell_type": "code",
      "source": [
        "#reversing\n",
        "print(a[::-1])"
      ],
      "metadata": {
        "colab": {
          "base_uri": "https://localhost:8080/"
        },
        "id": "1dobEe7l5LJR",
        "outputId": "eae40329-4d58-4157-d7b4-817c97d33e52"
      },
      "execution_count": null,
      "outputs": [
        {
          "output_type": "stream",
          "name": "stdout",
          "text": [
            "ysae si nohtyp\n"
          ]
        }
      ]
    },
    {
      "cell_type": "code",
      "source": [
        "a=\"python is easy\"\n",
        "print(a[::2])"
      ],
      "metadata": {
        "colab": {
          "base_uri": "https://localhost:8080/"
        },
        "id": "LSEQa4VW54-x",
        "outputId": "fd695b58-40c2-4ce2-cc52-2f45f17d84a8"
      },
      "execution_count": null,
      "outputs": [
        {
          "output_type": "stream",
          "name": "stdout",
          "text": [
            "pto ses\n"
          ]
        }
      ]
    },
    {
      "cell_type": "code",
      "source": [
        "#loop-while\n",
        "n=int(input(\"enter a number:\"))\n",
        "i=1\n",
        "while(i<=10):\n",
        "  print(n*i)\n",
        "  i=i+1"
      ],
      "metadata": {
        "colab": {
          "base_uri": "https://localhost:8080/"
        },
        "id": "MZRQTTtD6KqZ",
        "outputId": "8449cd7c-18f5-4f01-eaf8-26f98205ee98"
      },
      "execution_count": null,
      "outputs": [
        {
          "output_type": "stream",
          "name": "stdout",
          "text": [
            "enter a number:3\n",
            "3\n",
            "6\n",
            "9\n",
            "12\n",
            "15\n",
            "18\n",
            "21\n",
            "24\n",
            "27\n",
            "30\n"
          ]
        }
      ]
    },
    {
      "cell_type": "markdown",
      "source": [
        "collections:\n",
        "List:\n",
        ">List is a collection of elements\n",
        ">heterogenous\n",
        ">Mutable(modifiable)"
      ],
      "metadata": {
        "id": "Z1AS6Cdt8Swz"
      }
    },
    {
      "cell_type": "code",
      "source": [
        "#list\n",
        "a=[\"red\",\"orange\",\"pink\",12,19.5]\n",
        "print(a[3])\n",
        "for i in a:\n",
        "  print(i)"
      ],
      "metadata": {
        "colab": {
          "base_uri": "https://localhost:8080/"
        },
        "id": "r7VmGXpf8Vus",
        "outputId": "f7b77cdb-bb91-4181-aba4-78d4a50c402a"
      },
      "execution_count": null,
      "outputs": [
        {
          "output_type": "stream",
          "name": "stdout",
          "text": [
            "12\n",
            "red\n",
            "orange\n",
            "pink\n",
            "12\n",
            "19.5\n"
          ]
        }
      ]
    },
    {
      "cell_type": "code",
      "source": [
        "a.append(5)\n",
        "print(a)"
      ],
      "metadata": {
        "colab": {
          "base_uri": "https://localhost:8080/"
        },
        "id": "SxI0ZIBZ_nvl",
        "outputId": "ceee484d-a983-45bc-a088-c140368a59a4"
      },
      "execution_count": null,
      "outputs": [
        {
          "output_type": "stream",
          "name": "stdout",
          "text": [
            "['red', 'orange', 'pink', 12, 19.5, 5]\n"
          ]
        }
      ]
    },
    {
      "cell_type": "code",
      "source": [
        "a.insert(4,\"hai\")\n",
        "print(a)"
      ],
      "metadata": {
        "colab": {
          "base_uri": "https://localhost:8080/"
        },
        "id": "m7tWCsXIAH3N",
        "outputId": "a8b54eb3-d30e-4b25-9336-154edae6d294"
      },
      "execution_count": null,
      "outputs": [
        {
          "output_type": "stream",
          "name": "stdout",
          "text": [
            "['red', 'orange', 'pink', 12, 'hai', 19.5, 5]\n"
          ]
        }
      ]
    },
    {
      "cell_type": "code",
      "source": [
        "b=[\"a\",\"b\",\"c\",\"d\",\"e\"]\n",
        "a.extend(b)\n",
        "print(a)"
      ],
      "metadata": {
        "colab": {
          "base_uri": "https://localhost:8080/"
        },
        "id": "oO1Gs9VYBXoi",
        "outputId": "8fe93a47-7165-4cae-9ce3-94ef39cd0c12"
      },
      "execution_count": null,
      "outputs": [
        {
          "output_type": "stream",
          "name": "stdout",
          "text": [
            "['red', 'orange', 'pink', 12, 'hai', 19.5, 5, 'a', 'b', 'c', 'd', 'e', 'a', 'b', 'c', 'd', 'e']\n"
          ]
        }
      ]
    },
    {
      "cell_type": "code",
      "source": [
        "a.pop(2)\n",
        "print(a)"
      ],
      "metadata": {
        "colab": {
          "base_uri": "https://localhost:8080/"
        },
        "id": "OZoCOVdaCcJm",
        "outputId": "9f489587-76a0-4a84-bc79-913f86dcb2ae"
      },
      "execution_count": null,
      "outputs": [
        {
          "output_type": "stream",
          "name": "stdout",
          "text": [
            "['red', 'orange', 12, 'hai', 19.5, 5, 'a', 'b', 'c', 'd', 'e', 'a', 'b', 'c', 'd', 'e']\n"
          ]
        }
      ]
    },
    {
      "cell_type": "code",
      "source": [
        "a.remove(12)\n",
        "print(a)"
      ],
      "metadata": {
        "colab": {
          "base_uri": "https://localhost:8080/"
        },
        "id": "mA9iMPcSDMFr",
        "outputId": "9679998b-8f88-4420-f33d-098e163491eb"
      },
      "execution_count": null,
      "outputs": [
        {
          "output_type": "stream",
          "name": "stdout",
          "text": [
            "['red', 'orange', 'hai', 19.5, 5, 'a', 'b', 'c', 'd', 'e', 'a', 'b', 'c', 'd', 'e']\n"
          ]
        }
      ]
    },
    {
      "cell_type": "markdown",
      "source": [
        "#max and min values are work for numerical values"
      ],
      "metadata": {
        "id": "680N-VjOEOm2"
      }
    },
    {
      "cell_type": "markdown",
      "source": [
        "List comprehension!\n",
        "* Iterators\n",
        "* appiles some function on every element\n",
        "*conditions\n",
        "*output:list\n",
        "\n"
      ],
      "metadata": {
        "id": "IX5bfuB9EkV8"
      }
    },
    {
      "cell_type": "code",
      "source": [
        "l1=[12,23,56,49,1]\n",
        "l2=[i**2 for i in l1 if i>50] #output iterator condition\n",
        "print(l2)\n",
        "type(l2)"
      ],
      "metadata": {
        "colab": {
          "base_uri": "https://localhost:8080/"
        },
        "id": "DIJZvEGDE6IE",
        "outputId": "379c2815-d60d-4d68-fbfa-332355471add"
      },
      "execution_count": null,
      "outputs": [
        {
          "output_type": "stream",
          "name": "stdout",
          "text": [
            "[144, 529, 2401, 1]\n"
          ]
        },
        {
          "output_type": "execute_result",
          "data": {
            "text/plain": [
              "list"
            ]
          },
          "metadata": {},
          "execution_count": 54
        }
      ]
    },
    {
      "cell_type": "code",
      "source": [
        "# The salaries of 5 employees in a company is taken as a list.The tax is 10% if the salary is less than or equql to 50000\n",
        "#or it is 15%\n",
        "#create a new list with tax amounts\n",
        "#[67000,45000,89000,34000,50000]\n",
        "#list_name=[(body of if) (condition) else (body of else) iterator]\n",
        "sal=[67000,45000,89000,34000,50000]\n",
        "tax=[]\n",
        "for i in sal:\n",
        "  if i<=50000:\n",
        "    t=i*0.1\n",
        "    tax.append(t)\n",
        "  else:\n",
        "    t=i*0.15\n",
        "    tax.append(t)\n",
        "print(tax)\n"
      ],
      "metadata": {
        "id": "kPVWrbikHRap",
        "colab": {
          "base_uri": "https://localhost:8080/"
        },
        "outputId": "7b9d8d5c-908b-4424-d64e-065ca4e89dac"
      },
      "execution_count": null,
      "outputs": [
        {
          "output_type": "stream",
          "name": "stdout",
          "text": [
            "[10050.0, 4500.0, 13350.0, 3400.0, 5000.0]\n"
          ]
        }
      ]
    },
    {
      "cell_type": "code",
      "source": [
        "#list_name=[(body of if) (condition) else (body of else) iterator]\n",
        "tax=[i*0.1 if i<=50000 else i*0.15 for i in sal]\n",
        "print(tax)"
      ],
      "metadata": {
        "colab": {
          "base_uri": "https://localhost:8080/"
        },
        "id": "61xQHrtJKduD",
        "outputId": "a015312f-96ff-4207-df32-4dd914f018d5"
      },
      "execution_count": null,
      "outputs": [
        {
          "output_type": "stream",
          "name": "stdout",
          "text": [
            "[10050.0, 4500.0, 13350.0, 3400.0, 5000.0]\n"
          ]
        }
      ]
    }
  ]
}