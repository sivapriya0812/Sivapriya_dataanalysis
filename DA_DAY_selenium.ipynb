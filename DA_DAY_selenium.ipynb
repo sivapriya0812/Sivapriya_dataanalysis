{
 "cells": [
  {
   "cell_type": "markdown",
   "id": "df224019",
   "metadata": {},
   "source": [
    "Extracting Dell laptop data from amazon.in website and saving it as .csv\n",
    "Name of the laptop,price,no.of reviews"
   ]
  },
  {
   "cell_type": "code",
   "execution_count": 4,
   "id": "cb2bfd05",
   "metadata": {},
   "outputs": [
    {
     "name": "stdout",
     "output_type": "stream",
     "text": [
      "Requirement already satisfied: selenium in c:\\users\\durgarao\\anaconda3\\lib\\site-packages (4.16.0)\n",
      "Requirement already satisfied: urllib3[socks]<3,>=1.26 in c:\\users\\durgarao\\anaconda3\\lib\\site-packages (from selenium) (1.26.16)\n",
      "Requirement already satisfied: trio~=0.17 in c:\\users\\durgarao\\anaconda3\\lib\\site-packages (from selenium) (0.24.0)\n",
      "Requirement already satisfied: trio-websocket~=0.9 in c:\\users\\durgarao\\anaconda3\\lib\\site-packages (from selenium) (0.11.1)\n",
      "Requirement already satisfied: certifi>=2021.10.8 in c:\\users\\durgarao\\anaconda3\\lib\\site-packages (from selenium) (2023.7.22)\n",
      "Requirement already satisfied: attrs>=20.1.0 in c:\\users\\durgarao\\anaconda3\\lib\\site-packages (from trio~=0.17->selenium) (22.1.0)\n",
      "Requirement already satisfied: sortedcontainers in c:\\users\\durgarao\\anaconda3\\lib\\site-packages (from trio~=0.17->selenium) (2.4.0)\n",
      "Requirement already satisfied: idna in c:\\users\\durgarao\\anaconda3\\lib\\site-packages (from trio~=0.17->selenium) (3.4)\n",
      "Requirement already satisfied: outcome in c:\\users\\durgarao\\anaconda3\\lib\\site-packages (from trio~=0.17->selenium) (1.3.0.post0)\n",
      "Requirement already satisfied: sniffio>=1.3.0 in c:\\users\\durgarao\\anaconda3\\lib\\site-packages (from trio~=0.17->selenium) (1.3.0)\n",
      "Requirement already satisfied: cffi>=1.14 in c:\\users\\durgarao\\anaconda3\\lib\\site-packages (from trio~=0.17->selenium) (1.15.1)\n",
      "Requirement already satisfied: wsproto>=0.14 in c:\\users\\durgarao\\anaconda3\\lib\\site-packages (from trio-websocket~=0.9->selenium) (1.2.0)\n",
      "Requirement already satisfied: PySocks!=1.5.7,<2.0,>=1.5.6 in c:\\users\\durgarao\\anaconda3\\lib\\site-packages (from urllib3[socks]<3,>=1.26->selenium) (1.7.1)\n",
      "Requirement already satisfied: pycparser in c:\\users\\durgarao\\anaconda3\\lib\\site-packages (from cffi>=1.14->trio~=0.17->selenium) (2.21)\n",
      "Requirement already satisfied: h11<1,>=0.9.0 in c:\\users\\durgarao\\anaconda3\\lib\\site-packages (from wsproto>=0.14->trio-websocket~=0.9->selenium) (0.14.0)\n"
     ]
    }
   ],
   "source": [
    "!pip install selenium"
   ]
  },
  {
   "cell_type": "code",
   "execution_count": 9,
   "id": "11306291",
   "metadata": {
    "scrolled": false
   },
   "outputs": [
    {
     "name": "stdout",
     "output_type": "stream",
     "text": [
      "Requirement already satisfied: webdriver_manager in c:\\users\\durgarao\\anaconda3\\lib\\site-packages (4.0.1)\n",
      "Requirement already satisfied: requests in c:\\users\\durgarao\\anaconda3\\lib\\site-packages (from webdriver_manager) (2.31.0)\n",
      "Requirement already satisfied: python-dotenv in c:\\users\\durgarao\\anaconda3\\lib\\site-packages (from webdriver_manager) (0.21.0)\n",
      "Requirement already satisfied: packaging in c:\\users\\durgarao\\anaconda3\\lib\\site-packages (from webdriver_manager) (23.1)\n",
      "Requirement already satisfied: charset-normalizer<4,>=2 in c:\\users\\durgarao\\anaconda3\\lib\\site-packages (from requests->webdriver_manager) (2.0.4)\n",
      "Requirement already satisfied: idna<4,>=2.5 in c:\\users\\durgarao\\anaconda3\\lib\\site-packages (from requests->webdriver_manager) (3.4)\n",
      "Requirement already satisfied: urllib3<3,>=1.21.1 in c:\\users\\durgarao\\anaconda3\\lib\\site-packages (from requests->webdriver_manager) (1.26.16)\n",
      "Requirement already satisfied: certifi>=2017.4.17 in c:\\users\\durgarao\\anaconda3\\lib\\site-packages (from requests->webdriver_manager) (2023.7.22)\n"
     ]
    }
   ],
   "source": [
    "!pip install webdriver_manager"
   ]
  },
  {
   "cell_type": "code",
   "execution_count": 7,
   "id": "2fb797d2",
   "metadata": {},
   "outputs": [],
   "source": [
    "from selenium import webdriver\n",
    "from selenium.webdriver.chrome.options import Options\n",
    "from webdriver_manager.chrome import ChromeDriverManager\n",
    "from selenium.webdriver.common.by import By\n",
    "from selenium.webdriver.common.keys import Keys"
   ]
  },
  {
   "cell_type": "code",
   "execution_count": 8,
   "id": "9ba61cc0",
   "metadata": {},
   "outputs": [
    {
     "name": "stdout",
     "output_type": "stream",
     "text": [
      "chrome\n"
     ]
    }
   ],
   "source": [
    "#define options and set browser capabilities\n",
    "options=webdriver.ChromeOptions()\n",
    "options.add_argument('--some-option')\n",
    "#Create WebDriver instance with options\n",
    "driver=webdriver.Chrome(options=options)\n",
    "#Access browser capabilities\n",
    "browser_name=options.to_capabilities()['browserName']\n",
    "print(browser_name)"
   ]
  },
  {
   "cell_type": "code",
   "execution_count": 9,
   "id": "4057663d",
   "metadata": {},
   "outputs": [],
   "source": [
    "#navigate to a website\n",
    "driver.get(\"https://www.amazon.in/\")"
   ]
  },
  {
   "cell_type": "code",
   "execution_count": 10,
   "id": "ec47b941",
   "metadata": {},
   "outputs": [],
   "source": [
    "search=driver.find_element(By.ID,\"twotabsearchtextbox\")"
   ]
  },
  {
   "cell_type": "code",
   "execution_count": 11,
   "id": "9a00ef89",
   "metadata": {},
   "outputs": [],
   "source": [
    "search.send_keys(\"Dell laptops\")"
   ]
  },
  {
   "cell_type": "code",
   "execution_count": 12,
   "id": "2450ce04",
   "metadata": {},
   "outputs": [],
   "source": [
    "driver.find_element(By.ID,\"nav-search-submit-button\").click()"
   ]
  },
  {
   "cell_type": "code",
   "execution_count": 13,
   "id": "3cb3a6dd",
   "metadata": {},
   "outputs": [],
   "source": [
    "driver.find_element(By.XPATH,\"//span[text()='Dell']\").click()"
   ]
  },
  {
   "cell_type": "code",
   "execution_count": 22,
   "id": "8e3d3da8",
   "metadata": {},
   "outputs": [
    {
     "name": "stdout",
     "output_type": "stream",
     "text": [
      "['Dell 15 Laptop, Intel Core i5-1135G7 Processor/16GB DDR4/512GB SSD/Intel UHD Graphic/15.6\" (39.562cm) FHD Display/Win 11+MSO\\'21/15 Month McAfee/Spill-Resistant Keyboard/Carbon/Thin & Light 1.69kg', 'Dell 14 Laptop, 12th Gen Intel Core i5-1235U Processor, 16GB, 512GB, 14.0\" (35.56cm) FHD Display, Windows 11 + MSO\\'21, Spill-Resistant Keyboard, 15 Month Mcafee, Black, Thin & Light- 1.48kg', 'Dell 14 Laptop, AMD Ryzen R5-5500U/ 8GB DDR4, 2400 MHz/ 512GB/ 14.0\" (35.56cm) FHD Display with Comfort View/Windows 11 + MSO\\'21/15 Month McAfee/Spill-Resistant Keyboard/Carbon Black/ 1.48kg', 'Dell Inspiron 3520 Laptop, Intel Core i5-1235U Processor, 16GB,512GB,15.6\" (39.62cm) FHD Display, Backlit Keyboard, Win 11 + MSO\\'21,15 Month McAfee, Silver, Thin & Light-1.65kg', 'Dell Inspiron 3535 Laptop, AMD 7 Series Ryzen 5-7520U Processor/8GB/512GB/15.6\" (39.62cm) FHD WVA AG 120Hz 250 nits Display/Win 11 + MSO\\'21/15 Month McAfee/Platinum Silver/1.63kg', 'Dell 14 Laptop, 12th Gen Intel Core i5-1235U Processor, 16GB, 512GB, 14.0\" (35.56cm) FHD Display, Windows 11 + MSO\\'21, Spill-Resistant Keyboard, 15 Month Mcafee, Black, Thin & Light- 1.48kg', 'Dell 14 Laptop, 12th Gen Intel Core i3-1215U Processor/8GB/512GB SSD/Intel UHD Graphics/14.0\"(35.56cm) FHD/Windows 11 + MSO\\'21/15 Month McAfee/Spill-Resistant Keyboard/Grey/Thin & Light 1.48kg', 'Dell Inspiron 7430 2in1 Touch Laptop, 13th Gen Intel Core i3-1315U/8GB/1TB SSD/14.0\" (35.56cm) FHD+,16:10 Aspect Ratio/Backlit KB+FPR/Win 11+MSO\\'21/15 Months McAfee/Platinum Silver/Thin & Light-1.58kg', 'Dell 15 Laptop, Intel Core i5-1135G7 Processor/ 8GB/ 1TB+256GB SSD/15.6\"(39.62cm) FHD Display/Mobile Connect/Windows 11 + MSO\\'21/15 Month McAfee/Spill-Resistant Keyboard/Black/Thin & Light 1.69kg', 'Dell Inspiron 3530 Laptop, 13th Gen Intel Core i5-1335U Processor/16GB/1TB SSD/15.6\" (39.62cm) FHD Display/Backlit Keyboard/Platinum Silver/Win 11 + MSO\\'21/15 Month McAfee/Thin & Light- 1.66kg', 'Dell G15 5520 Gaming Laptop, Intel i5-12500H/16GB DDR5/1TB SSD/15.6\" (39.62cm) FHD WVA AG 120Hz 250 nits/NVIDIA RTX 3050, 4 GB GDDR6/Win 11 + MSO\\'21/15 Months McAfee/Backlit KB/Dark Shadow Grey/2.81kg', 'Dell 15 Laptop, Intel Core i3-1115G4 Processor/8GB DDR4/512GB SSD/Intel UHD Graphics/15.6\" (39.6cm) FHD 120Hz Refresh, 250 nits/Mobile Connect/Win 11+MSO\\'21/15 Month McAfee/Black/Thin & Light-1.66kg', 'Dell 14 Laptop, Intel Core i5-1135G7 Processor/8GB/512GB/Intel UHD Graphic/14.0\" (35.6cm) FHD with Comfort View/Spill-Resistant Keyboard/Thin & Light 1.48kg/ Win 11+ MSO\\'21/15 Month McAfee/Titan Grey', 'Dell Inspiron 5430 Laptop, 13th Gen Intel Core i5-1335U Processor/16GB/1TB SSD/14.0\" (35.56CM) FHD+ WVA 250 nits/Backlit KB + FPR/Win 11+MSO\\'21/15 Month McAfee/Platinum Silver/Thin & Light- 1.59KG', 'Dell Inspiron 7430 2in1 Touch Laptop, 13th Gen Intel Core i3-1315U/8GB/1TB SSD/14.0\" (35.56cm) FHD+,16:10 Aspect Ratio/Backlit KB+FPR/Win 11+MSO\\'21/15 Months McAfee/Platinum Silver/Thin & Light-1.58kg', 'Dell Inspiron 5430 13th Gen Laptop, Intel Core i5-1335U Processor/16GB/ 512GB SSD/14.0\" (35.56cm) FHD+/Backlit KB + FPR/Win 11 + MSO\\'2/McAfee 15 Months/Silver/Thunderbolt 4.0 Port/Thin & Light-1.59kg', 'Dell 14, Intel 12th Gen i5-1235U Laptop/8GB/512GB SSD/14.0\" (35.56cm) FHD TÃœV Rheinland Certified Comfortview to Reduce Harmful Blue Light Emission/Windows 11 + MSO\\'21/Black/15 Month McAfee,1.48kg', 'Dell New 14\" Latitude 3420- i3 11th Gen || 8 GB || 512 GB SSD || 14\" Full HD 1920 x 1080 Pixels || Ubuntu-Dos || 1 Year Onsite with ADP Warranty', 'Dell Inspiron 3530 Laptop, Intel Core i7-1355U Processor, 16GB, 512GB, 15.6\" (39.62cm) FHD WVA AG 120Hz, Backlit KB + FPR, Win 11 + MSO\\'21, 15 Month McAfee, Silver, 1.62kg', 'Dell New G15-5515 Gaming Laptop, AMD Ryzen5-5600H, Win 11 + MSO\\'21, 16Gb Gddr4, 512Gb SSD, Nvidia RTX 3050 (4Gb Gddr6), 15.6\" (39.62Cms) FHD AG 250 Nits 120Hz, Backlit KB Orange, 2.57Kgs', 'Dell 14 Premium Metal Laptop, AMD Ryzen 5-5625U, 16GB, 512GB, 14.0\" (35.56CM) FHD Display, Backlit KB + FPR, Win 11 + MSO\\'21, 15 Month McAfee, Dark Silver, Thin & Light-1.48kg', 'Dell Inspiron 3520 Laptop, Intel Core i3-1215U Processor, 8GB & 256GB SSD, 15.6\" (39.62Cm) FHD WVA AG 120Hz 250 nits, Win 11 + MSO\\'21, Carbon Black, 15 Months McAfee, Thin & Light- 1.65KG', 'Dell G15-5530 Gaming Laptop, Intel Core i5-13450HX Processor, 16GB DDR5, 1TB, NVIDIA RTX 3050,6GB GDDR6, 15.6\" (39.62cm) FHD 120Hz 250 nits, Backlit KB Orange,Win 11 + MSO\\'21, Dark Shadow Gray, 2.65kg', 'Dell Inspiron 7430 2in1 Touch Laptop, Intel Core i5-1335U Processor/ 16GB LP DDR5/ 1TB SSD/14.0\" (35.56cm) FHD+/ Active Pen/Win 11 + MSO\\'21/15 Month McAfee/Platinum Silver/Thin & Light- 1.58kg', 'Dell Vostro 5620 Laptop, Intel Core i7-1260P Processor/ 16GB/ 512GB/ NVIDIA MX570 2GB GDDR6/ 16.0\" (40.64cm) FHD+ with 16:10 Aspect Ratio/Backlit KB + FPR/Win 11 + MSO\\'21/ Titan Grey/ 1.91kg', 'Dell Inspiron 3520 Laptop, Intel Core i3-1215U Processor, 8GB, 512GB, 15.6\" (39.62cm) FHD Display, Win 11 + MSO\\'21, 15 Month McAfee Antivirus, Silver, Thin & Light-1.65kg', 'Dell Inspiron 5320 Laptop, Intel Core i5-1240P Processor, 16GB, 512GB,13.3\" (33.78cm) QHD+, Backlit KB + FPR, Win 11 + MSO\\'21, 15 Month McAfee, FHD Camera with Privacy Shutter, Platinum Silver,1.25kg', 'Dell Inspiron 3511 Laptop, Intel Core i3-1115G4 Processor/8GB/256GB SSD/15.6\" (39.62cm) 3-Sided Narrow Border, FHD Display/Windows 11 + MSO\\'21/McAfee 15 Months/Platinum Silver/Thin & Light-1.8kg', 'Dell G15 5520 Gaming Laptop, Intel i5-12500H, 16GB DDR5, 512GB SSD, NVIDIA RTX 3050 (4GB GDDR6), 15.6\"(39.62cm) FHD 120Hz 250 nits Display, Backlit KB Orange, Win 11 + MSO\\'21, Dark Shadow Grey, 2.81kg', 'Dell 14 Laptop, 13th Gen Intel Core i5-1335U Processor/ 8GB/ 512GB SSD/ 14.0\" (35.56cm) FHD/Windows 11 + MSO\\'21/15 Month McAfee/Spill-Resistant Keyboard/Carbon Black/Thin & Light- 1.46kg']\n"
     ]
    }
   ],
   "source": [
    "names=driver.find_elements(By.XPATH,\"//span[@class='a-size-medium a-color-base a-text-normal']\")\n",
    "l_names=[i.text for i in names]\n",
    "print(l_names)"
   ]
  },
  {
   "cell_type": "code",
   "execution_count": 23,
   "id": "389f141c",
   "metadata": {},
   "outputs": [
    {
     "name": "stdout",
     "output_type": "stream",
     "text": [
      "30\n"
     ]
    }
   ],
   "source": [
    "print(len(l_names))"
   ]
  },
  {
   "cell_type": "code",
   "execution_count": 31,
   "id": "509b6baa",
   "metadata": {},
   "outputs": [
    {
     "name": "stdout",
     "output_type": "stream",
     "text": [
      "['34,990', '33,990', '35,990', '47,990', '49,990', '35,990', '55,280', '38,990', '49,990', '35,990', '57,990', '44,990', '67,490', '75,990', '33,990', '44,990', '71,290', '57,990', '68,990', '46,990', '30,630', '71,490', '78,490', '50,490', '34,380', '81,490', '82,990', '87,490', '38,090', '75,490', '37,990', '72,990', '56,990']\n"
     ]
    }
   ],
   "source": [
    "price=driver.find_elements(By.XPATH,\"//span[@class='a-price-whole']\")\n",
    "l_price=[i.text for i in price]\n",
    "print(l_price)"
   ]
  },
  {
   "cell_type": "code",
   "execution_count": 34,
   "id": "10d51f55",
   "metadata": {},
   "outputs": [
    {
     "name": "stdout",
     "output_type": "stream",
     "text": [
      "['47,990', '49,990', '35,990', '55,280', '38,990', '49,990', '35,990', '57,990', '44,990', '67,490', '75,990', '33,990', '44,990', '71,290', '57,990', '68,990', '46,990', '30,630', '71,490', '78,490', '50,490', '34,380', '81,490', '82,990', '87,490', '38,090', '75,490', '37,990', '72,990', '56,990']\n"
     ]
    }
   ],
   "source": [
    "l_price.pop(0)\n",
    "print(l_price)"
   ]
  },
  {
   "cell_type": "code",
   "execution_count": 25,
   "id": "7cfd3cc8",
   "metadata": {},
   "outputs": [
    {
     "name": "stdout",
     "output_type": "stream",
     "text": [
      "['607', '72', '4', '2', '4', '72', '239', '179', '607', '13', '517', '631', '2', '82', '179', '82', '138', '1', '1', '71', '1', '195', '11', '27', '7', '3', '11', '3', '517', '34']\n"
     ]
    }
   ],
   "source": [
    "reviews=driver.find_elements(By.XPATH,\"//span[@class='a-size-base s-underline-text']\")\n",
    "l_reviews=[i.text for i in reviews]\n",
    "print(l_reviews)"
   ]
  },
  {
   "cell_type": "code",
   "execution_count": 35,
   "id": "2c2aa3cf",
   "metadata": {},
   "outputs": [],
   "source": [
    "import pandas as pd"
   ]
  },
  {
   "cell_type": "code",
   "execution_count": 37,
   "id": "c0980132",
   "metadata": {},
   "outputs": [],
   "source": [
    "headings=['laptopname','prices','Reviews']"
   ]
  },
  {
   "cell_type": "code",
   "execution_count": 39,
   "id": "f263bcaa",
   "metadata": {},
   "outputs": [
    {
     "name": "stdout",
     "output_type": "stream",
     "text": [
      "Empty DataFrame\n",
      "Columns: [laptopname, prices, Reviews]\n",
      "Index: []\n"
     ]
    }
   ],
   "source": [
    "df=pd.DataFrame(columns=headings)\n",
    "print(df)"
   ]
  },
  {
   "cell_type": "code",
   "execution_count": 41,
   "id": "d9b3b562",
   "metadata": {},
   "outputs": [],
   "source": [
    "df['laptopname']=l_names\n",
    "df['prices']=l_price\n",
    "df['Reviews']=l_reviews"
   ]
  },
  {
   "cell_type": "code",
   "execution_count": 42,
   "id": "d78ecfc3",
   "metadata": {},
   "outputs": [
    {
     "name": "stdout",
     "output_type": "stream",
     "text": [
      "                                           laptopname  prices Reviews\n",
      "0   Dell 15 Laptop, Intel Core i5-1135G7 Processor...  47,990     607\n",
      "1   Dell 14 Laptop, 12th Gen Intel Core i5-1235U P...  49,990      72\n",
      "2   Dell 14 Laptop, AMD Ryzen R5-5500U/ 8GB DDR4, ...  35,990       4\n",
      "3   Dell Inspiron 3520 Laptop, Intel Core i5-1235U...  55,280       2\n",
      "4   Dell Inspiron 3535 Laptop, AMD 7 Series Ryzen ...  38,990       4\n",
      "5   Dell 14 Laptop, 12th Gen Intel Core i5-1235U P...  49,990      72\n",
      "6   Dell 14 Laptop, 12th Gen Intel Core i3-1215U P...  35,990     239\n",
      "7   Dell Inspiron 7430 2in1 Touch Laptop, 13th Gen...  57,990     179\n",
      "8   Dell 15 Laptop, Intel Core i5-1135G7 Processor...  44,990     607\n",
      "9   Dell Inspiron 3530 Laptop, 13th Gen Intel Core...  67,490      13\n",
      "10  Dell G15 5520 Gaming Laptop, Intel i5-12500H/1...  75,990     517\n",
      "11  Dell 15 Laptop, Intel Core i3-1115G4 Processor...  33,990     631\n",
      "12  Dell 14 Laptop, Intel Core i5-1135G7 Processor...  44,990       2\n",
      "13  Dell Inspiron 5430 Laptop, 13th Gen Intel Core...  71,290      82\n",
      "14  Dell Inspiron 7430 2in1 Touch Laptop, 13th Gen...  57,990     179\n",
      "15  Dell Inspiron 5430 13th Gen Laptop, Intel Core...  68,990      82\n",
      "16  Dell 14, Intel 12th Gen i5-1235U Laptop/8GB/51...  46,990     138\n",
      "17  Dell New 14\" Latitude 3420- i3 11th Gen || 8 G...  30,630       1\n",
      "18  Dell Inspiron 3530 Laptop, Intel Core i7-1355U...  71,490       1\n",
      "19  Dell New G15-5515 Gaming Laptop, AMD Ryzen5-56...  78,490      71\n",
      "20  Dell 14 Premium Metal Laptop, AMD Ryzen 5-5625...  50,490       1\n",
      "21  Dell Inspiron 3520 Laptop, Intel Core i3-1215U...  34,380     195\n",
      "22  Dell G15-5530 Gaming Laptop, Intel Core i5-134...  81,490      11\n",
      "23  Dell Inspiron 7430 2in1 Touch Laptop, Intel Co...  82,990      27\n",
      "24  Dell Vostro 5620 Laptop, Intel Core i7-1260P P...  87,490       7\n",
      "25  Dell Inspiron 3520 Laptop, Intel Core i3-1215U...  38,090       3\n",
      "26  Dell Inspiron 5320 Laptop, Intel Core i5-1240P...  75,490      11\n",
      "27  Dell Inspiron 3511 Laptop, Intel Core i3-1115G...  37,990       3\n",
      "28  Dell G15 5520 Gaming Laptop, Intel i5-12500H, ...  72,990     517\n",
      "29  Dell 14 Laptop, 13th Gen Intel Core i5-1335U P...  56,990      34\n"
     ]
    }
   ],
   "source": [
    "print(df)"
   ]
  },
  {
   "cell_type": "code",
   "execution_count": 43,
   "id": "3574b230",
   "metadata": {},
   "outputs": [],
   "source": [
    "df.to_csv(\"Dell_laptops.csv\")"
   ]
  },
  {
   "cell_type": "code",
   "execution_count": null,
   "id": "648e5b12",
   "metadata": {},
   "outputs": [],
   "source": []
  }
 ],
 "metadata": {
  "kernelspec": {
   "display_name": "Python 3 (ipykernel)",
   "language": "python",
   "name": "python3"
  },
  "language_info": {
   "codemirror_mode": {
    "name": "ipython",
    "version": 3
   },
   "file_extension": ".py",
   "mimetype": "text/x-python",
   "name": "python",
   "nbconvert_exporter": "python",
   "pygments_lexer": "ipython3",
   "version": "3.11.5"
  }
 },
 "nbformat": 4,
 "nbformat_minor": 5
}
